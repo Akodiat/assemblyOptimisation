{
 "cells": [
  {
   "cell_type": "code",
   "execution_count": 1,
   "metadata": {},
   "outputs": [],
   "source": [
    "from genome import NeatGenome, PolynomialGenome\n",
    "from geneticAlgoritm import GeneticAlgorithm\n",
    "import altair as alt\n",
    "import pandas as pd\n",
    "\n",
    "\n",
    "def f(x):\n",
    "    return (-x**2 + 1)\n",
    "\n",
    "def plotOutput(input, output, refOut):\n",
    "    data = []\n",
    "    for i in range(len(input)):\n",
    "        data.append({'input': input[i],'output': output[i],'type': 'output'})\n",
    "        data.append({'input': input[i],'output': refOut[i],'type': 'refOut'})\n",
    "    return alt.Chart(pd.DataFrame(data=data)).mark_line().encode(\n",
    "        x='input',\n",
    "        y='output',\n",
    "        color='type'\n",
    "    )"
   ]
  },
  {
   "cell_type": "markdown",
   "metadata": {},
   "source": [
    "# Polynomial genome"
   ]
  },
  {
   "cell_type": "code",
   "execution_count": null,
   "metadata": {},
   "outputs": [],
   "source": [
    "populationSize = 20\n",
    "nDivisions = 15\n",
    "nGenerations = 100\n",
    "\n",
    "def fitnessFunc(genome):\n",
    "    input = [n/nDivisions for n in range(nDivisions)]\n",
    "    output = [genome.evaluate(i) for i in input]\n",
    "    refOut = [f(i) for i in input]\n",
    "    diff = sum(abs(output[i]-refOut[i]) for i in range(nDivisions))\n",
    "    if diff == 0:\n",
    "        return float('inf')\n",
    "    return 1 / diff\n",
    "\n",
    "# Initialize population\n",
    "population = [PolynomialGenome() for _ in range(populationSize)]\n",
    "\n",
    "# Introduce some genetic diversity\n",
    "for i in population:\n",
    "    for _ in range(2):\n",
    "        i.mutate()\n",
    "\n",
    "# Initialise genetic algorithm\n",
    "evolver = GeneticAlgorithm(population, fitnessFunc)\n",
    "\n",
    "# Evolve for a given number of generations\n",
    "maxFitness, best = evolver.run(nGenerations)\n",
    "print(\"Done!\")\n",
    "input = [n/nDivisions for n in range(nDivisions)]\n",
    "output = [best.evaluate(i) for i in input]\n",
    "refOut = [f(i) for i in input]\n",
    "print(\"Output: {}\".format(output))"
   ]
  },
  {
   "cell_type": "code",
   "execution_count": 3,
   "metadata": {},
   "outputs": [
    {
     "data": {
      "text/html": [
       "\n",
       "<div id=\"altair-viz-037bd6ac0bec4108b263e79660df8b70\"></div>\n",
       "<script type=\"text/javascript\">\n",
       "  (function(spec, embedOpt){\n",
       "    let outputDiv = document.currentScript.previousElementSibling;\n",
       "    if (outputDiv.id !== \"altair-viz-037bd6ac0bec4108b263e79660df8b70\") {\n",
       "      outputDiv = document.getElementById(\"altair-viz-037bd6ac0bec4108b263e79660df8b70\");\n",
       "    }\n",
       "    const paths = {\n",
       "      \"vega\": \"https://cdn.jsdelivr.net/npm//vega@5?noext\",\n",
       "      \"vega-lib\": \"https://cdn.jsdelivr.net/npm//vega-lib?noext\",\n",
       "      \"vega-lite\": \"https://cdn.jsdelivr.net/npm//vega-lite@4.8.1?noext\",\n",
       "      \"vega-embed\": \"https://cdn.jsdelivr.net/npm//vega-embed@6?noext\",\n",
       "    };\n",
       "\n",
       "    function loadScript(lib) {\n",
       "      return new Promise(function(resolve, reject) {\n",
       "        var s = document.createElement('script');\n",
       "        s.src = paths[lib];\n",
       "        s.async = true;\n",
       "        s.onload = () => resolve(paths[lib]);\n",
       "        s.onerror = () => reject(`Error loading script: ${paths[lib]}`);\n",
       "        document.getElementsByTagName(\"head\")[0].appendChild(s);\n",
       "      });\n",
       "    }\n",
       "\n",
       "    function showError(err) {\n",
       "      outputDiv.innerHTML = `<div class=\"error\" style=\"color:red;\">${err}</div>`;\n",
       "      throw err;\n",
       "    }\n",
       "\n",
       "    function displayChart(vegaEmbed) {\n",
       "      vegaEmbed(outputDiv, spec, embedOpt)\n",
       "        .catch(err => showError(`Javascript Error: ${err.message}<br>This usually means there's a typo in your chart specification. See the javascript console for the full traceback.`));\n",
       "    }\n",
       "\n",
       "    if(typeof define === \"function\" && define.amd) {\n",
       "      requirejs.config({paths});\n",
       "      require([\"vega-embed\"], displayChart, err => showError(`Error loading script: ${err.message}`));\n",
       "    } else if (typeof vegaEmbed === \"function\") {\n",
       "      displayChart(vegaEmbed);\n",
       "    } else {\n",
       "      loadScript(\"vega\")\n",
       "        .then(() => loadScript(\"vega-lite\"))\n",
       "        .then(() => loadScript(\"vega-embed\"))\n",
       "        .catch(showError)\n",
       "        .then(() => displayChart(vegaEmbed));\n",
       "    }\n",
       "  })({\"config\": {\"view\": {\"continuousWidth\": 400, \"continuousHeight\": 300}}, \"data\": {\"name\": \"data-c81b7e392698225dc781cd291f0dc86a\"}, \"mark\": \"line\", \"encoding\": {\"color\": {\"type\": \"nominal\", \"field\": \"type\"}, \"x\": {\"type\": \"quantitative\", \"field\": \"input\"}, \"y\": {\"type\": \"quantitative\", \"field\": \"output\"}}, \"$schema\": \"https://vega.github.io/schema/vega-lite/v4.8.1.json\", \"datasets\": {\"data-c81b7e392698225dc781cd291f0dc86a\": [{\"input\": 0.0, \"output\": 1.0174279784976585, \"type\": \"output\"}, {\"input\": 0.0, \"output\": 1.0, \"type\": \"refOut\"}, {\"input\": 0.06666666666666667, \"output\": 1.0046891874588826, \"type\": \"output\"}, {\"input\": 0.06666666666666667, \"output\": 0.9955555555555555, \"type\": \"refOut\"}, {\"input\": 0.13333333333333333, \"output\": 0.9850424506379853, \"type\": \"output\"}, {\"input\": 0.13333333333333333, \"output\": 0.9822222222222222, \"type\": \"refOut\"}, {\"input\": 0.2, \"output\": 0.9583996888446247, \"type\": \"output\"}, {\"input\": 0.2, \"output\": 0.96, \"type\": \"refOut\"}, {\"input\": 0.26666666666666666, \"output\": 0.9246728228884584, \"type\": \"output\"}, {\"input\": 0.26666666666666666, \"output\": 0.9288888888888889, \"type\": \"refOut\"}, {\"input\": 0.3333333333333333, \"output\": 0.8837737735791448, \"type\": \"output\"}, {\"input\": 0.3333333333333333, \"output\": 0.8888888888888888, \"type\": \"refOut\"}, {\"input\": 0.4, \"output\": 0.8356144617263415, \"type\": \"output\"}, {\"input\": 0.4, \"output\": 0.84, \"type\": \"refOut\"}, {\"input\": 0.4666666666666667, \"output\": 0.7801068081397068, \"type\": \"output\"}, {\"input\": 0.4666666666666667, \"output\": 0.7822222222222222, \"type\": \"refOut\"}, {\"input\": 0.5333333333333333, \"output\": 0.7171627336288985, \"type\": \"output\"}, {\"input\": 0.5333333333333333, \"output\": 0.7155555555555555, \"type\": \"refOut\"}, {\"input\": 0.6, \"output\": 0.6466941590035746, \"type\": \"output\"}, {\"input\": 0.6, \"output\": 0.64, \"type\": \"refOut\"}, {\"input\": 0.6666666666666666, \"output\": 0.5686130050733932, \"type\": \"output\"}, {\"input\": 0.6666666666666666, \"output\": 0.5555555555555556, \"type\": \"refOut\"}, {\"input\": 0.7333333333333333, \"output\": 0.4828311926480121, \"type\": \"output\"}, {\"input\": 0.7333333333333333, \"output\": 0.4622222222222223, \"type\": \"refOut\"}, {\"input\": 0.8, \"output\": 0.38926064253708925, \"type\": \"output\"}, {\"input\": 0.8, \"output\": 0.3599999999999999, \"type\": \"refOut\"}, {\"input\": 0.8666666666666667, \"output\": 0.28781327555028285, \"type\": \"output\"}, {\"input\": 0.8666666666666667, \"output\": 0.24888888888888883, \"type\": \"refOut\"}, {\"input\": 0.9333333333333333, \"output\": 0.17840101249725082, \"type\": \"output\"}, {\"input\": 0.9333333333333333, \"output\": 0.12888888888888883, \"type\": \"refOut\"}]}}, {\"mode\": \"vega-lite\"});\n",
       "</script>"
      ],
      "text/plain": [
       "alt.Chart(...)"
      ]
     },
     "execution_count": 3,
     "metadata": {},
     "output_type": "execute_result"
    }
   ],
   "source": [
    "plotOutput(input, output, refOut)"
   ]
  },
  {
   "cell_type": "markdown",
   "metadata": {},
   "source": [
    "# Neat genome"
   ]
  },
  {
   "cell_type": "code",
   "execution_count": null,
   "metadata": {},
   "outputs": [],
   "source": [
    "populationSize = 100\n",
    "nDivisions = 15\n",
    "nGenerations = 500\n",
    "\n",
    "def fitnessFunc(genome):\n",
    "    input = [n/nDivisions for n in range(nDivisions)]\n",
    "    output = [genome.evaluate2([i], 10)[0] for i in input]\n",
    "    refOut = [f(i) for i in input]\n",
    "    diff = sum(abs(output[i]-refOut[i]) for i in range(nDivisions))\n",
    "    if diff == 0:\n",
    "        return float('inf')\n",
    "    return 1 / diff\n",
    "\n",
    "# Initialize population\n",
    "population = [NeatGenome(1, 1) for _ in range(populationSize)]\n",
    "\n",
    "# Introduce some genetic diversity\n",
    "for i in population:\n",
    "    for _ in range(2):\n",
    "        i.mutate()\n",
    "\n",
    "# Initialise genetic algorithm\n",
    "evolver = GeneticAlgorithm(population, fitnessFunc)\n",
    "\n",
    "# Evolve for a given number of generations\n",
    "maxFitness, best = evolver.run(nGenerations)\n",
    "print(\"Done!\")\n",
    "best.draw()\n",
    "input = [n/nDivisions for n in range(nDivisions)]\n",
    "output = [best.evaluate([i])[0] for i in input]\n",
    "refOut = [f(i) for i in input]\n",
    "print(\"Output: {}\".format(output))"
   ]
  },
  {
   "cell_type": "code",
   "execution_count": 5,
   "metadata": {},
   "outputs": [
    {
     "data": {
      "text/html": [
       "\n",
       "<div id=\"altair-viz-af74f99ee63d46cdb86698edfa6f8c24\"></div>\n",
       "<script type=\"text/javascript\">\n",
       "  (function(spec, embedOpt){\n",
       "    let outputDiv = document.currentScript.previousElementSibling;\n",
       "    if (outputDiv.id !== \"altair-viz-af74f99ee63d46cdb86698edfa6f8c24\") {\n",
       "      outputDiv = document.getElementById(\"altair-viz-af74f99ee63d46cdb86698edfa6f8c24\");\n",
       "    }\n",
       "    const paths = {\n",
       "      \"vega\": \"https://cdn.jsdelivr.net/npm//vega@5?noext\",\n",
       "      \"vega-lib\": \"https://cdn.jsdelivr.net/npm//vega-lib?noext\",\n",
       "      \"vega-lite\": \"https://cdn.jsdelivr.net/npm//vega-lite@4.8.1?noext\",\n",
       "      \"vega-embed\": \"https://cdn.jsdelivr.net/npm//vega-embed@6?noext\",\n",
       "    };\n",
       "\n",
       "    function loadScript(lib) {\n",
       "      return new Promise(function(resolve, reject) {\n",
       "        var s = document.createElement('script');\n",
       "        s.src = paths[lib];\n",
       "        s.async = true;\n",
       "        s.onload = () => resolve(paths[lib]);\n",
       "        s.onerror = () => reject(`Error loading script: ${paths[lib]}`);\n",
       "        document.getElementsByTagName(\"head\")[0].appendChild(s);\n",
       "      });\n",
       "    }\n",
       "\n",
       "    function showError(err) {\n",
       "      outputDiv.innerHTML = `<div class=\"error\" style=\"color:red;\">${err}</div>`;\n",
       "      throw err;\n",
       "    }\n",
       "\n",
       "    function displayChart(vegaEmbed) {\n",
       "      vegaEmbed(outputDiv, spec, embedOpt)\n",
       "        .catch(err => showError(`Javascript Error: ${err.message}<br>This usually means there's a typo in your chart specification. See the javascript console for the full traceback.`));\n",
       "    }\n",
       "\n",
       "    if(typeof define === \"function\" && define.amd) {\n",
       "      requirejs.config({paths});\n",
       "      require([\"vega-embed\"], displayChart, err => showError(`Error loading script: ${err.message}`));\n",
       "    } else if (typeof vegaEmbed === \"function\") {\n",
       "      displayChart(vegaEmbed);\n",
       "    } else {\n",
       "      loadScript(\"vega\")\n",
       "        .then(() => loadScript(\"vega-lite\"))\n",
       "        .then(() => loadScript(\"vega-embed\"))\n",
       "        .catch(showError)\n",
       "        .then(() => displayChart(vegaEmbed));\n",
       "    }\n",
       "  })({\"config\": {\"view\": {\"continuousWidth\": 400, \"continuousHeight\": 300}}, \"data\": {\"name\": \"data-d8f78618bc2837cfe292dcbe8203908c\"}, \"mark\": \"line\", \"encoding\": {\"color\": {\"type\": \"nominal\", \"field\": \"type\"}, \"x\": {\"type\": \"quantitative\", \"field\": \"input\"}, \"y\": {\"type\": \"quantitative\", \"field\": \"output\"}}, \"$schema\": \"https://vega.github.io/schema/vega-lite/v4.8.1.json\", \"datasets\": {\"data-d8f78618bc2837cfe292dcbe8203908c\": [{\"input\": 0.0, \"output\": 1.077218270218687, \"type\": \"output\"}, {\"input\": 0.0, \"output\": 1.0, \"type\": \"refOut\"}, {\"input\": 0.06666666666666667, \"output\": 1.0375730734706845, \"type\": \"output\"}, {\"input\": 0.06666666666666667, \"output\": 0.9955555555555555, \"type\": \"refOut\"}, {\"input\": 0.13333333333333333, \"output\": 0.9979327751896093, \"type\": \"output\"}, {\"input\": 0.13333333333333333, \"output\": 0.9822222222222222, \"type\": \"refOut\"}, {\"input\": 0.2, \"output\": 0.958302212445126, \"type\": \"output\"}, {\"input\": 0.2, \"output\": 0.96, \"type\": \"refOut\"}, {\"input\": 0.26666666666666666, \"output\": 0.9186862078189364, \"type\": \"output\"}, {\"input\": 0.26666666666666666, \"output\": 0.9288888888888889, \"type\": \"refOut\"}, {\"input\": 0.3333333333333333, \"output\": 0.8790895622183322, \"type\": \"output\"}, {\"input\": 0.3333333333333333, \"output\": 0.8888888888888888, \"type\": \"refOut\"}, {\"input\": 0.4, \"output\": 0.8395170477584833, \"type\": \"output\"}, {\"input\": 0.4, \"output\": 0.84, \"type\": \"refOut\"}, {\"input\": 0.4666666666666667, \"output\": 0.7999734007357907, \"type\": \"output\"}, {\"input\": 0.4666666666666667, \"output\": 0.7822222222222222, \"type\": \"refOut\"}, {\"input\": 0.5333333333333333, \"output\": 0.7405914726824329, \"type\": \"output\"}, {\"input\": 0.5333333333333333, \"output\": 0.7155555555555555, \"type\": \"refOut\"}, {\"input\": 0.6, \"output\": 0.6681002186716611, \"type\": \"output\"}, {\"input\": 0.6, \"output\": 0.64, \"type\": \"refOut\"}, {\"input\": 0.6666666666666666, \"output\": 0.5956517788732463, \"type\": \"output\"}, {\"input\": 0.6666666666666666, \"output\": 0.5555555555555556, \"type\": \"refOut\"}, {\"input\": 0.7333333333333333, \"output\": 0.5232506769792884, \"type\": \"output\"}, {\"input\": 0.7333333333333333, \"output\": 0.4622222222222223, \"type\": \"refOut\"}, {\"input\": 0.8, \"output\": 0.45090136783313656, \"type\": \"output\"}, {\"input\": 0.8, \"output\": 0.3599999999999999, \"type\": \"refOut\"}, {\"input\": 0.8666666666666667, \"output\": 0.37860823138293365, \"type\": \"output\"}, {\"input\": 0.8666666666666667, \"output\": 0.24888888888888883, \"type\": \"refOut\"}, {\"input\": 0.9333333333333333, \"output\": 0.3063755668626548, \"type\": \"output\"}, {\"input\": 0.9333333333333333, \"output\": 0.12888888888888883, \"type\": \"refOut\"}]}}, {\"mode\": \"vega-lite\"});\n",
       "</script>"
      ],
      "text/plain": [
       "alt.Chart(...)"
      ]
     },
     "execution_count": 5,
     "metadata": {},
     "output_type": "execute_result"
    }
   ],
   "source": [
    "plotOutput(input, output, refOut)"
   ]
  }
 ],
 "metadata": {
  "kernelspec": {
   "display_name": "Python 3.9.6 ('base')",
   "language": "python",
   "name": "python3"
  },
  "language_info": {
   "codemirror_mode": {
    "name": "ipython",
    "version": 3
   },
   "file_extension": ".py",
   "mimetype": "text/x-python",
   "name": "python",
   "nbconvert_exporter": "python",
   "pygments_lexer": "ipython3",
   "version": "3.9.6"
  },
  "orig_nbformat": 4,
  "vscode": {
   "interpreter": {
    "hash": "4d7c7867966a8166ee283cfecc69f53ebdea2b9918e014bceea220254c526424"
   }
  }
 },
 "nbformat": 4,
 "nbformat_minor": 2
}
